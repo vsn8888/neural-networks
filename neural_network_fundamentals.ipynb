{
 "cells": [
  {
   "cell_type": "markdown",
   "metadata": {},
   "source": [
    "# Neural Networks\n",
    "\n",
    "This notebook explains the process of constructing a neural network from scratch without using existing frameworks provided by libraries like PyTorch, Keras, and TensorFlow"
   ]
  },
  {
   "cell_type": "code",
   "execution_count": 53,
   "metadata": {},
   "outputs": [],
   "source": [
    "import numpy as np\n",
    "import matplotlib.pyplot as plt"
   ]
  },
  {
   "cell_type": "markdown",
   "metadata": {},
   "source": [
    "Create some noisy synthetic data to test the neural network on."
   ]
  },
  {
   "cell_type": "code",
   "execution_count": 54,
   "metadata": {},
   "outputs": [
    {
     "data": {
      "image/png": "[encoded data removed]",
      "text/plain": [
       "<Figure size 640x480 with 1 Axes>"
      ]
     },
     "metadata": {},
     "output_type": "display_data"
    }
   ],
   "source": [
    "x = np.random.rand(100)\n",
    "m = 2\n",
    "b = 1\n",
    "y = m*x + b + np.random.normal(0, 0.2, size=100)\n",
    "\n",
    "plt.scatter(x, y)\n",
    "plt.show()"
   ]
  },
  {
   "cell_type": "markdown",
   "metadata": {},
   "source": [
    "Convert $x$ and $y$ to row vectors $X$ and $Y$ for parallelisation. Each column of $X$ and $Y$ represents a training sample."
   ]
  },
  {
   "cell_type": "code",
   "execution_count": 55,
   "metadata": {},
   "outputs": [],
   "source": [
    "X = x[np.newaxis, :]\n",
    "Y = y[np.newaxis, :]"
   ]
  },
  {
   "cell_type": "markdown",
   "metadata": {},
   "source": [
    "Initialise the neural network. Let $\\sigma$ be a list with the activation function for each layer, $W$ be a list of the weights for each layer, and $b$ be a list of the biases for each layer. Use Xavier initialisation for the weights."
   ]
  },
  {
   "cell_type": "code",
   "execution_count": 56,
   "metadata": {},
   "outputs": [],
   "source": [
    "layers = [1, 5, 5, 1]\n",
    "\n",
    "sigma = [np.tanh, np.tanh, lambda x : x]\n",
    "dsigma = [lambda x : np.cosh(x) ** (-2), lambda x : np.cosh(x) ** (-2), lambda x : 1] \n",
    "\n",
    "W = list()\n",
    "b = list()\n",
    "\n",
    "xavier_sigma = np.sqrt(2 / (layers[0] + layers[-1]))\n",
    "\n",
    "for i in range(0, len(layers) - 1):\n",
    "    W.append(np.random.normal(0, xavier_sigma, size=(layers[i + 1], layers[i])))\n",
    "    b.append(np.zeros((layers[i + 1], 1)))"
   ]
  },
  {
   "cell_type": "markdown",
   "metadata": {},
   "source": [
    "Implement forward propagation of the inputs $X$ using matrix multiplication.\n",
    "\n",
    "\\begin{gather*}\n",
    "    Z^{(1)} = W^{(1)}X + b^{(1)} \\\\\n",
    "    Z^{(l)} = W^{(l)}A^{(l-1)} + b^{(l)} \\\\\n",
    "    A^{(l)} = \\tanh\\left(Z^{(l)}\\right)\n",
    "\\end{gather*}"
   ]
  },
  {
   "cell_type": "code",
   "execution_count": 57,
   "metadata": {},
   "outputs": [],
   "source": [
    "def fwd_prop(input):\n",
    "    if len(input) == layers[0]:\n",
    "        Z = [input]\n",
    "        A = [input]\n",
    "        \n",
    "        Z_l = np.matmul(W[0], input) + b[0]\n",
    "        A_l = sigma[0](Z_l)\n",
    "        Z.append(Z_l)\n",
    "        A.append(A_l)\n",
    "        \n",
    "        for i in range(1, len(layers) - 1):\n",
    "            Z_l = np.matmul(W[i], A_l) + b[i]\n",
    "            A_l = sigma[i](Z_l)\n",
    "            Z.append(Z_l)\n",
    "            A.append(A_l)\n",
    "        \n",
    "        return A, Z\n",
    "          \n",
    "    else:\n",
    "        raise Exception(\"Input does not have valid dimensions\")"
   ]
  },
  {
   "cell_type": "markdown",
   "metadata": {},
   "source": [
    "Let $Y$ be the targets and $A^{(L)}$ be the predictions. Assume $Y$ and $A^{(L)}$ are $n \\times m$ matrices, meaning that there are $n$ outputs and $m$ training samples\n",
    "\n",
    "Use a quadratic cost function $C_j$ for the $j$-th training sample ($Y_j$ is the target vector and $A^{(L)}_j$ is the prediction vector).\n",
    "\n",
    "$$C_j = \\frac{1}{2} \\sum_{i=1}^n (Y_{i,j} - A^{(L)}_{i,j})^2$$\n",
    "\n",
    "The cost function $C$ for all training samples is\n",
    "\n",
    "$$C = \\sum_{j=1}^m C_j$$"
   ]
  },
  {
   "cell_type": "code",
   "execution_count": 58,
   "metadata": {},
   "outputs": [],
   "source": [
    "def cost(A_L, Y):\n",
    "    if A_L.shape == Y.shape:\n",
    "        return np.linalg.norm(np.array(A_L) - np.array(Y))**2 / 2\n",
    "    else:\n",
    "        raise Exception(\"Prediction and target matrices must have the same shape\")"
   ]
  },
  {
   "cell_type": "markdown",
   "metadata": {},
   "source": [
    "To optimise the weights and biases, it is necessary to compute the derivatives of the cost function with respect to each weight and bias. This is done using backpropagation.\n",
    "\n",
    "Consider the $i$-th training sample. Let the error in the output layer be $\\delta^{(L)}$. Its components are given by\n",
    "$$\\delta^{(L)}_j = \\frac{\\partial C_i}{\\partial a^{(L)}_j} \\sigma'(z_j^{(L)})$$\n",
    "where $a$ refers to the activated neurons, $z$ refers to the unactivated neurons, and $\\sigma$ is the activation function.\n",
    "\n",
    "This can be computed using\n",
    "$$\\delta^{(L)} = \\nabla_a C_i \\odot \\sigma'(z^{(L)})$$\n",
    "where $\\nabla_a C_i$ is a vector whose components are the partial derivatives $\\partial C_i / \\partial a^{(L)}_j$ and $\\odot$ is the Hadamard (elementwise) product.\n",
    "\n",
    "For the quadratic cost function,\n",
    "$$\\nabla_a C_i = a^{(L)} - y$$\n",
    "\n",
    "Then, the error in a hidden layer can be calculated using the error in the subsequent layer using\n",
    "$$\\delta^{(l)} = \\left((W^{(l+1)})^T \\delta^{(l+1)}\\right) \\odot \\sigma'(z^{(l)})$$\n",
    "\n",
    "Once the errors in each layer (except the input layer) have been computed, the partial derivatives of the cost function for the $i$-th training sample with respect to the weights and biases can be computed using\n",
    "\\begin{gather*}\n",
    "    \\frac{\\partial C_i}{\\partial b^{(l)}_j} = \\delta^{(l)}_j \\\\\n",
    "    \\frac{\\partial C_i}{\\partial W^{(l)}_{j,k}} = a^{(l-1)}_k \\delta^{(l)}_j\n",
    "\\end{gather*}\n",
    "\n",
    "It follows that the partial derivatives of the overall cost function are\n",
    "\\begin{gather*}\n",
    "    \\frac{\\partial C}{\\partial b^{(l)}_j} = \\sum_{i=1}^m \\frac{\\partial C_i}{\\partial b^{(l)}_j} \\\\\n",
    "    \\frac{\\partial C}{\\partial W^{(l)}_{j,k}} = \\sum_{i=1}^m \\frac{\\partial C_i}{\\partial W^{(l)}_{j,k}}\n",
    "\\end{gather*}\n",
    "\n",
    "Refer to [Neural Networks and Deep Learning, chapter 2](http://neuralnetworksanddeeplearning.com/chap2.html) for details, including proofs."
   ]
  },
  {
   "cell_type": "code",
   "execution_count": 59,
   "metadata": {},
   "outputs": [],
   "source": [
    "def grad_cost(A_L, Y):\n",
    "    if A_L.shape == Y.shape:\n",
    "        return A_L - Y\n",
    "    else:\n",
    "        raise Exception(\"A_L and Y must have the same dimensions\")"
   ]
  },
  {
   "cell_type": "code",
   "execution_count": 88,
   "metadata": {},
   "outputs": [],
   "source": [
    "def back_prop(A, Z, Y):\n",
    "    delta = list()\n",
    "    \n",
    "    delta_l = np.multiply(grad_cost(A[-1], Y), dsigma[-1](Z[-1]))\n",
    "    delta = [delta_l] + delta\n",
    "\n",
    "    for l in range(len(layers) - 3, -1, -1):\n",
    "        delta_l = np.multiply(np.matmul(W[l+1].T, delta_l), dsigma[l](Z[l]))\n",
    "        delta = [delta_l] + delta\n",
    "\n",
    "    dC_db = list()\n",
    "    dC_dW = list()\n",
    "    \n",
    "    for l in range(0, len(delta)):\n",
    "        dC_db_l = np.sum(delta[l], axis=1)\n",
    "        dC_db.append(dC_db_l)\n",
    "\n",
    "        dC_dW_l = np.zeros(W[l].shape)\n",
    "\n",
    "        for i in range(0, delta[l].shape[1]):\n",
    "            dC_dW_l += np.outer(delta[l][:, i], A[l][:, i])\n",
    "        \n",
    "        dC_dW.append(dC_dW_l)\n",
    "    \n",
    "    return dC_db, dC_dW\n",
    "    "
   ]
  },
  {
   "cell_type": "markdown",
   "metadata": {},
   "source": [
    "To train the neural network, use gradient descent. This requires the weights and biases to be updated by subtracting $\\eta \\nabla_W C$ and $\\eta \\nabla_b C$ respectively, where $\\eta$ is the learning rate."
   ]
  }
 ],
 "metadata": {
  "kernelspec": {
   "display_name": ".venv",
   "language": "python",
   "name": "python3"
  },
  "language_info": {
   "codemirror_mode": {
    "name": "ipython",
    "version": 3
   },
   "file_extension": ".py",
   "mimetype": "text/x-python",
   "name": "python",
   "nbconvert_exporter": "python",
   "pygments_lexer": "ipython3",
   "version": "3.12.3"
  }
 },
 "nbformat": 4,
 "nbformat_minor": 2
}
