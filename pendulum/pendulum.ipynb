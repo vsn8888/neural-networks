{
 "cells": [
  {
   "cell_type": "markdown",
   "metadata": {},
   "source": [
    "# Nonlinear Pendulum\n",
    "\n",
    "Consider the problem of a pendulum consisting of a mass suspended from a massless, inextensible rod of length $l$.\n",
    "\n",
    "The equation of motion of the mass can be derived using Newtonian mechanics.\n",
    "\n",
    "\\begin{gather*}\n",
    "    \\sum F_r = T - mg\\cos\\theta = ml\\dot{\\theta}^2 \\\\\n",
    "    \\sum F_\\theta = -mg\\sin\\theta = ml\\ddot{\\theta} \\\\\n",
    "    \\ddot{\\theta} = -\\frac{g}{l} \\sin\\theta\n",
    "\\end{gather*}\n",
    "\n",
    "The equation of motion can be solved for $\\theta(t)$ given $\\theta(0) = \\theta_0$ and $\\dot{\\theta}(0) = \\omega_0$. \n",
    "\n",
    "The equation of motion can be transformed into a first order initial value problem (i.e. $y'(t) = f(t, y(t))$) which can be solved numerically using the Runge-Kutta method (RK4).\n",
    "\n",
    "$$\\frac{d}{dt} \\begin{bmatrix} \\theta \\\\ \\omega \\end{bmatrix} = \\begin{bmatrix} \\omega \\\\ -\\frac{g}{l} \\sin\\theta \\end{bmatrix}$$\n",
    "\n",
    "with initial conditions $\\theta(0) = \\theta_0$ and $\\omega(0) = \\omega_0$\n"
   ]
  },
  {
   "cell_type": "code",
   "execution_count": 1,
   "metadata": {},
   "outputs": [],
   "source": [
    "import math\n",
    "import numpy as np\n",
    "import matplotlib.pyplot as plt\n",
    "import matplotlib.animation as animation\n",
    "from IPython import display"
   ]
  },
  {
   "cell_type": "code",
   "execution_count": 2,
   "metadata": {},
   "outputs": [],
   "source": [
    "def rk4(f, y0, t=1, h=0.01):\n",
    "    n = math.ceil(t / h)\n",
    "    y_t = np.zeros((len(y0)+1, n+1))\n",
    "    y_t[0, :] = h * np.linspace(0, n, n+1)\n",
    "    y_t[1:, 0] = y0\n",
    "    \n",
    "    for i in range(1, n+1):\n",
    "        k1 = f(y_t[0, i-1], y_t[1:, i-1])\n",
    "        k2 = f(y_t[0, i-1] + h/2, y_t[1:, i-1] + h*k1/2)\n",
    "        k3 = f(y_t[0, i-1] + h/2, y_t[1:, i-1] + h*k2/2)\n",
    "        k4 = f(y_t[0, i-1] + h, y_t[1:, i-1] + h*k3)\n",
    "        \n",
    "        y_t[1:, i] = y_t[1:, i-1] + h/6*(k1 + 2*k2 + 2*k3 + k4)\n",
    "    \n",
    "    return y_t"
   ]
  },
  {
   "cell_type": "code",
   "execution_count": 3,
   "metadata": {},
   "outputs": [],
   "source": [
    "g = 9.8\n",
    "l = 1\n",
    "\n",
    "def f(t, y):\n",
    "    return np.array([y[1], -g / l * np.sin(y[0])])\n",
    "\n",
    "t_end = 10\n",
    "h = 0.02\n",
    "\n",
    "rk4_solution = rk4(f, np.array([np.pi/2, 0]), t_end, h)"
   ]
  },
  {
   "cell_type": "code",
   "execution_count": 6,
   "metadata": {},
   "outputs": [],
   "source": [
    "fig, ax = plt.subplots()\n",
    "\n",
    "theta_curve, = ax.plot(rk4_solution[0,0], rk4_solution[1,0])\n",
    "theta_dot_curve, = ax.plot(rk4_solution[0,0], rk4_solution[2,0])\n",
    "\n",
    "ax.set_xlim([rk4_solution[0,0], rk4_solution[0,-1]])\n",
    "ax.set_ylim([np.floor(np.min(rk4_solution[1:,:])), np.ceil(np.max(rk4_solution[1:,:]))])\n",
    "ax.set_xlabel(r\"$t$ [s]\")\n",
    "ax.set_ylabel(r\"$\\theta$ [rad], $\\dot{\\theta}$ [rad/s]\")\n",
    "ax.legend([r\"$\\theta$ [rad]\", r\"$\\dot{\\theta}$ [rad/s]\"], loc=\"upper right\")\n",
    "ax.grid()\n",
    "\n",
    "def animate(i):\n",
    "    theta_curve.set_data(rk4_solution[0, :i+1], rk4_solution[1, :i+1])\n",
    "    theta_dot_curve.set_data(rk4_solution[0, :i+1], rk4_solution[2, :i+1])\n",
    "\n",
    "anim = animation.FuncAnimation(fig, animate, frames=rk4_solution.shape[1], interval=h*1000)\n",
    "anim.save(\"output/rk4_solution_plot.mp4\", dpi=300, writer=animation.FFMpegWriter(fps=50))\n",
    "plt.close()"
   ]
  },
  {
   "cell_type": "code",
   "execution_count": 5,
   "metadata": {},
   "outputs": [
    {
     "data": {
      "image/png": "[encoded data removed]",
      "text/plain": [
       "<Figure size 640x480 with 1 Axes>"
      ]
     },
     "metadata": {},
     "output_type": "display_data"
    }
   ],
   "source": [
    "def animate_pendulum(t, theta):\n",
    "    fig, ax = plt.subplots()\n",
    "\n",
    "    ax.set_xlim([-1, 1])\n",
    "    ax.set_ylim([-1.5, 0.5])\n",
    "\n",
    "    mass_x = np.sin(theta[0])\n",
    "    mass_y = -np.cos(theta[0])\n",
    "\n",
    "    mass, = ax.plot(mass_x, mass_y, \"o\") \n",
    "\n",
    "animate_pendulum(rk4_solution[0,:], rk4_solution[1,:])"
   ]
  }
 ],
 "metadata": {
  "kernelspec": {
   "display_name": ".venv",
   "language": "python",
   "name": "python3"
  },
  "language_info": {
   "codemirror_mode": {
    "name": "ipython",
    "version": 3
   },
   "file_extension": ".py",
   "mimetype": "text/x-python",
   "name": "python",
   "nbconvert_exporter": "python",
   "pygments_lexer": "ipython3",
   "version": "3.12.3"
  }
 },
 "nbformat": 4,
 "nbformat_minor": 2
}
